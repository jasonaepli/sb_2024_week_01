{
 "cells": [
  {
   "cell_type": "markdown",
   "id": "4bf647c0-af1e-444b-9000-a2a4e0f0284d",
   "metadata": {},
   "source": [
    "# Exercise #1\n",
    "## All set up!\n",
    "---"
   ]
  },
  {
   "cell_type": "markdown",
   "id": "00bfbe40-8d84-4c0a-a668-aec4968a1b69",
   "metadata": {},
   "source": [
    "# Exercise #2\n",
    "\n",
    "| Prefix | Name | Power of 10 |\n",
    "| ------- | ---- | ---------- |\n",
    "| n | Nano | -9 |\n",
    "| u | Micro | -6 |\n",
    "| m | Milli | -3 |\n",
    "| c | Centi | -2 |\n",
    "| d | Deci | -1 |\n",
    "| da | Deca | 1 |\n",
    "| h | Hecto | 2 |\n",
    "| K | Kilo | +3 |\n",
    "| M | Mega | +6 |\n",
    "| G | Giga | +9 |\n",
    "| T | Tera | +12 |\n",
    "---"
   ]
  },
  {
   "cell_type": "markdown",
   "id": "714d8b56-7bfa-4b29-b166-c6fcf5e3b53d",
   "metadata": {},
   "source": [
    "# Exercise #3\n",
    "\n",
    "Distance from Earth to Moon = 384.4 x 10^6 meters\n",
    "Statue of Liberty is 305 feet tall\n",
    "\n",
    "Distance from Earth to Moon in Statues of Liberty:\n",
    "\n",
    "$$\n",
    "  \\frac{384.4x10^6 meters}{1}\\ * \\frac{3.28 feet}{1 meter}\\ * \\frac{1 statue}{305 feet}\\ =  \n",
    "$$"
   ]
  },
  {
   "cell_type": "code",
   "execution_count": 7,
   "id": "422deb5d-4ee3-4135-ae5e-8218c5bd9546",
   "metadata": {},
   "outputs": [
    {
     "name": "stdout",
     "output_type": "stream",
     "text": [
      "4133875.4098360655 Statues\n"
     ]
    }
   ],
   "source": [
    "print(str(384400000/305*3.28) + \" Statues\")"
   ]
  },
  {
   "cell_type": "markdown",
   "id": "a2b177f5-3bfc-4958-917f-ff5aa698e67a",
   "metadata": {},
   "source": [
    "---\n",
    "# Exercise #4\n",
    "\n",
    "$$\n",
    "    5.432e14 usec * \\frac{1 sec}{10^6 usec}\\ = 5.432*10^8 sec\n",
    "$$\n",
    "$$\n",
    "    5.432*10^8 sec * \\frac{1 hr}{3600 sec}\\ * \\frac{1 day}{24 hr} * \\frac{1 yr}{365 days} =\n",
    "$$"
   ]
  },
  {
   "cell_type": "code",
   "execution_count": 6,
   "id": "fc01ec7b-0f45-40b7-9c6f-04127c1f11e7",
   "metadata": {},
   "outputs": [
    {
     "name": "stdout",
     "output_type": "stream",
     "text": [
      "17.22475900558092 years\n"
     ]
    }
   ],
   "source": [
    "print(str(543200000/3600/24/365) + \" years\")"
   ]
  },
  {
   "cell_type": "markdown",
   "id": "98cae0d0-1a35-45a4-a0fb-91b63f22601a",
   "metadata": {},
   "source": [
    "---\n",
    "# Exercise #5\n",
    "\n",
    "Solve for x:\n",
    "$$\n",
    "    \\frac{a-b*c^{(d-e*x)^2}}{f} = g\n",
    "$$"
   ]
  },
  {
   "cell_type": "markdown",
   "id": "c1c13138-3c88-4bc4-860f-7d14d07cbe4b",
   "metadata": {},
   "source": [
    "$$\n",
    "    -bc^{(d-e*x)^2} = g*f-a\n",
    "$$"
   ]
  },
  {
   "cell_type": "markdown",
   "id": "e3c0dcf9-ad84-4719-a7bb-58c6a13bdd5d",
   "metadata": {},
   "source": [
    "$$\n",
    "    c^{(d-e*x)^2} = \\frac{g*f-a}{-b}\n",
    "$$"
   ]
  },
  {
   "cell_type": "markdown",
   "id": "703c1723-c56e-431a-aee4-80744098cdd6",
   "metadata": {},
   "source": [
    "$$\n",
    "    (d-e*x)^2*log_c{c} = log_c{\\frac{g*f-a}{-b}}\n",
    "$$"
   ]
  },
  {
   "cell_type": "markdown",
   "id": "c71b7e31-7921-489d-99af-f819e5c4d88e",
   "metadata": {},
   "source": [
    "$$\n",
    "    d-e*x = \\sqrt{log_c{\\frac{g*f-a}{-b}}}\n",
    "$$"
   ]
  },
  {
   "cell_type": "markdown",
   "id": "24105d93-97ec-43aa-873e-3d05cc27302c",
   "metadata": {},
   "source": [
    "$$\n",
    "    -e*x = -d \\pm \\sqrt{log_c{\\frac{g*f-a}{-b}}}\n",
    "$$"
   ]
  },
  {
   "cell_type": "markdown",
   "id": "e9406e9b-d946-461e-9af1-6f538a19dfa5",
   "metadata": {},
   "source": [
    "$$\n",
    "    x = \\frac{-d \\pm \\sqrt{log_c{\\frac{g*f-a}{-b}}}}{-e}\n",
    "$$"
   ]
  },
  {
   "cell_type": "markdown",
   "id": "99377d67-0fb7-4474-bdde-66e74262c2c0",
   "metadata": {},
   "source": [
    "---\n",
    "# Exercise #6\n",
    "\n",
    "Practiced!"
   ]
  }
 ],
 "metadata": {
  "kernelspec": {
   "display_name": "Python 3 (ipykernel)",
   "language": "python",
   "name": "python3"
  },
  "language_info": {
   "codemirror_mode": {
    "name": "ipython",
    "version": 3
   },
   "file_extension": ".py",
   "mimetype": "text/x-python",
   "name": "python",
   "nbconvert_exporter": "python",
   "pygments_lexer": "ipython3",
   "version": "3.10.13"
  }
 },
 "nbformat": 4,
 "nbformat_minor": 5
}
